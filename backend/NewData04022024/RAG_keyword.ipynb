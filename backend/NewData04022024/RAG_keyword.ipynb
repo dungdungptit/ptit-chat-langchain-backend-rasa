{
 "cells": [
  {
   "cell_type": "code",
   "execution_count": null,
   "metadata": {},
   "outputs": [],
   "source": [
    "data_map_key = [\n",
    "    {\n",
    "        \"keys\": [\"chứng chỉ\", \"ielts\", \"toeic\", \"toefl\", \"sat\", \"act\"],\n",
    "        \"document\": \"thí sinh có thể đăng ký xét tuyển kết hợp và đáp ứng 1 trong các điều kiện sau đây:\\nThí sinh phải có một trong các loại Chứng chỉ quốc tế (Chứng chỉ SAT từ 1130/1600 trở lên, ACT từ 25/36 trở lên) hoặc Chứng chỉ tiếng Anh quốc tế (Chứng chỉ IELTS 5.5 trở lên, TOEFL iBT 65 trở lên hoặc TOEFL ITP 513 trở lên). Cụ thể, với Chứng chỉ quốc tế SAT, thí sinh cần đạt từ 1130/1600 trở lên trong thời hạn 02 năm tính đến ngày xét tuyển. Hoặc có thể đạt điểm ACT từ 25/36 trở lên và Chứng chỉ tiếng Anh quốc tế như IELTS 5.5 trở lên, TOEFL iBT 65 trở lên hoặc TOEFL ITP 513 trở lên. Điều kiện này cần kết hợp với kết quả điểm trung bình chung học tập lớp 10, 11, 12 hoặc học kỳ 1 lớp 12 đạt từ 7,5 trở lên và có hạnh kiểm Khá trở lên.\",\n",
    "        \"answer\": [\n",
    "            {\"type\": \"text\", \"content\": \"The answer is 42.\"},\n",
    "            {\n",
    "                \"type\": \"image\",\n",
    "                \"content\": \"https://www.google.com/images/branding/googlelogo/2x/googlelogo_color_272x92dp.png\",\n",
    "            },\n",
    "        ],\n",
    "    },\n",
    "]"
   ]
  }
 ],
 "metadata": {
  "kernelspec": {
   "display_name": "llm-env",
   "language": "python",
   "name": "python3"
  },
  "language_info": {
   "name": "python",
   "version": "3.11.5"
  }
 },
 "nbformat": 4,
 "nbformat_minor": 2
}
