{
 "cells": [
  {
   "cell_type": "code",
   "execution_count": null,
   "metadata": {},
   "outputs": [],
   "source": []
  },
  {
   "cell_type": "markdown",
   "metadata": {},
   "source": [
    "đăng kí xét tuyển theo ý chị nương\n",
    "- Xét tuyển học bạ\n",
    "\n",
    "Liên quan hsg\n",
    "<!-- - Ưu tiên đối với thí sinh được giải hsg -> xét tuyển pt nào, cộng điểm ntn -->\n",
    "\n",
    "<!-- hỏi về đk xét tuyển thì m phải hướng dẫn là đăng ký onl xong thì nộp hs trực tiếp -->"
   ]
  }
 ],
 "metadata": {
  "language_info": {
   "name": "python"
  }
 },
 "nbformat": 4,
 "nbformat_minor": 2
}
